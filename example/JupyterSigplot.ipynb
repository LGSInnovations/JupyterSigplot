{
 "cells": [
  {
   "cell_type": "markdown",
   "metadata": {},
   "source": [
    "# SigPlot Jupyter Notebook Extension!\n",
    "\n",
    "[![Binder](https://mybinder.org/badge.svg)](https://mybinder.org/v2/gh/LGSInnovations/jupyter-sigplot/master?filepath=example%2FJupyterSigplot.ipynb)\n",
    "\n",
    "## Installation (If not running the notebook on [myBinder](https://mybinder.org/v2/gh/LGSInnovations/jupyter-sigplot/master?filepath=example%2FJupyterSigplot.ipynb))\n",
    "- Download extension from [GitHub](https://github.com/LGSInnovations/jupyter-sigplot)\n",
    "- Install Python 2.6+ or 3.5+\n",
    "- Install `pip` (usually bundled with Python)\n",
    "- Install Jupyter using `pip` (or install the Anaconda platform, which also includes Jupyter)\n",
    "\n",
    "```\n",
    "pip install jupyter\n",
    "```\n",
    "\n",
    "- Install the SigPlot Jupyter Notebook extension (run the following in order)\n",
    "\n",
    "```\n",
    "[/path/to/jupyter_sigplot]$ python setup.py install\n",
    "[/path/to/jupyter_sigplot]$ jupyter nbextension install --py --symlink --sys-prefix jupyter_sigplot\n",
    "[/path/to/jupyter_sigplot]$ jupyter nbextension enable jupyter_sigplot --py --sys-prefix\n",
    "```\n",
    "- To launch the notebook, simply run\n",
    "\n",
    "```\n",
    "$ jupyter notebook\n",
    "```\n",
    "\n",
    "- (Note: you do not need X-MIDAS installed to use  [SigPlot](https://github.com/lgsinnovations/sigplot).)\n",
    "\n",
    "## sigplot.Plot Usage\n",
    "- `Plot(args*, kwargs*)` - creates a sigplot with each arg as input data and kwargs as options\n",
    "- `overlay_array(data)` - adds an array of numbers to the sigplot's input data\n",
    "- `overlay_href(path)` - adds data from a file or URI to the sigplot\n",
    "- `change_settings(**kwargs)` - changes the options of the sigplot\n",
    "- `plot(*args)` - displays an interactive sigplot\n",
    "\n",
    "(Note: Changing the kernel's current working directory will affect relative data paths.)"
   ]
  },
  {
   "cell_type": "code",
   "execution_count": 1,
   "metadata": {},
   "outputs": [],
   "source": [
    "# The only import you _need_ for plotting is `jupyter_sigplot.sigplot.Plot`.\n",
    "from jupyter_sigplot.sigplot import Plot\n",
    "\n",
    "# We'll import `numpy` too to show how to plot a `numpy` array.\n",
    "import numpy as np"
   ]
  },
  {
   "cell_type": "code",
   "execution_count": 2,
   "metadata": {},
   "outputs": [
    {
     "data": {
      "application/vnd.jupyter.widget-view+json": {
       "model_id": "3103064b836d4389bf9e78a1d9e4a2de",
       "version_major": 2,
       "version_minor": 0
      },
      "text/plain": [
       "Plot(plot_options={'noxaxis': True, 'noyaxis': True, 'xi': True})"
      ]
     },
     "metadata": {},
     "output_type": "display_data"
    }
   ],
   "source": [
    "# self-explanatory, but we're instantiating a `jupyter_sigplot.sigplot.Plot` object\n",
    "# and saying do not show the x and y axes.\n",
    "plot = Plot(noxaxis=True, noyaxis=True, xi=True)\n",
    "\n",
    "# Multiple `overlay_*` calls will layer on top of one-another\n",
    "plot.overlay_array((1,2,3))\n",
    "plot.overlay_array([3,2,1])"
   ]
  },
  {
   "cell_type": "code",
   "execution_count": 3,
   "metadata": {},
   "outputs": [],
   "source": [
    "# you can change settings after the plot is instantiated,\n",
    "# so we'll add cross-hairs and show the x axis!\n",
    "plot.change_settings({'cross': True, 'show_x_axis': True})"
   ]
  },
  {
   "cell_type": "code",
   "execution_count": 4,
   "metadata": {},
   "outputs": [
    {
     "data": {
      "application/vnd.jupyter.widget-view+json": {
       "model_id": "81ccf929f8ec49788f6d3f1f8f8bd306",
       "version_major": 2,
       "version_minor": 0
      },
      "text/plain": [
       "Plot(plot_options={'noxaxis': True, 'noyaxis': True})"
      ]
     },
     "metadata": {},
     "output_type": "display_data"
    },
    {
     "name": "stdout",
     "output_type": "stream",
     "text": [
      "CPU times: user 574 ms, sys: 248 ms, total: 822 ms\n",
      "Wall time: 1.18 s\n"
     ]
    }
   ],
   "source": [
    "%%time\n",
    "\n",
    "# self-explanatory, but we're instantiating a `SigPlot` object\n",
    "# and saying do not show the x and y axes.\n",
    "plot = Plot(noxaxis=True, noyaxis=True)\n",
    "\n",
    "# Multiple `overlay_*` calls will layer on top of one-another\n",
    "x = np.arange(0, 200e3, .01)\n",
    "plot.overlay_array(np.sin(x))"
   ]
  },
  {
   "cell_type": "code",
   "execution_count": 5,
   "metadata": {},
   "outputs": [
    {
     "data": {
      "application/vnd.jupyter.widget-view+json": {
       "model_id": "3d24cd35cd494c08a508f730583216ab",
       "version_major": 2,
       "version_minor": 0
      },
      "text/plain": [
       "Plot(plot_options={'noxaxis': True, 'noyaxis': False})"
      ]
     },
     "metadata": {},
     "output_type": "display_data"
    }
   ],
   "source": [
    "plot = Plot(noxaxis=True, noyaxis=False)\n",
    "\n",
    "# overlay_href() can accept a local Jupyter file or an arbitrary URI;\n",
    "# if it's an http or https URI, it will copy the file locally to\n",
    "# avoid dealing with cross-origin resource sharing (CORS)\n",
    "plot.overlay_href(\"http://sigplot.lgsinnovations.com/dat/pulse.tmp\")"
   ]
  },
  {
   "cell_type": "code",
   "execution_count": 6,
   "metadata": {},
   "outputs": [
    {
     "data": {
      "application/vnd.jupyter.widget-view+json": {
       "model_id": "e86f23bf590c443e8a01b32b60f81b63",
       "version_major": 2,
       "version_minor": 0
      },
      "text/plain": [
       "Plot()"
      ]
     },
     "metadata": {},
     "output_type": "display_data"
    }
   ],
   "source": [
    "# You can also plot mixed-types (i.e., hrefs and arrays)\n",
    "plot = Plot()\n",
    "plot.overlay_href(\"http://sigplot.lgsinnovations.com/dat/sin.tmp\")\n",
    "plot.overlay_href(\"http://sigplot.lgsinnovations.com/dat/pulse.tmp\")\n",
    "plot.overlay_array(np.arange(0, 4, .01))"
   ]
  },
  {
   "cell_type": "code",
   "execution_count": 7,
   "metadata": {},
   "outputs": [
    {
     "data": {
      "application/vnd.jupyter.widget-view+json": {
       "model_id": "ec590395321041d38b868f7dd5dd2866",
       "version_major": 2,
       "version_minor": 0
      },
      "text/plain": [
       "Plot()"
      ]
     },
     "metadata": {},
     "output_type": "display_data"
    }
   ],
   "source": [
    "# once the resource is local,\n",
    "# you can just refer to the filename\n",
    "# Note: changing the kernel's current working directory will affect\n",
    "# relative data paths.\n",
    "# Note: Running this will affect the previous cell's plot\n",
    "plot = Plot()\n",
    "plot.overlay_href(\"sin.tmp\")"
   ]
  },
  {
   "cell_type": "code",
   "execution_count": 8,
   "metadata": {},
   "outputs": [
    {
     "data": {
      "application/vnd.jupyter.widget-view+json": {
       "model_id": "787d8d74345648e99d71ff498aa2d3ba",
       "version_major": 2,
       "version_minor": 0
      },
      "text/plain": [
       "Plot()"
      ]
     },
     "metadata": {},
     "output_type": "display_data"
    }
   ],
   "source": [
    "# penny.prm is a type-2000 file, meaning it's layed out as\n",
    "# a 2-dimensional matrix, so `plot()` will by default plot each row\n",
    "# individually in a 1-D plot\n",
    "plot = Plot()\n",
    "plot.overlay_href(\"http://sigplot.lgsinnovations.com/dat/penny.prm\")"
   ]
  },
  {
   "cell_type": "code",
   "execution_count": 9,
   "metadata": {},
   "outputs": [
    {
     "data": {
      "application/vnd.jupyter.widget-view+json": {
       "model_id": "1826ad9644cb4a139c7fbf5b3653ed10",
       "version_major": 2,
       "version_minor": 0
      },
      "text/plain": [
       "Plot()"
      ]
     },
     "metadata": {},
     "output_type": "display_data"
    }
   ],
   "source": [
    "plot = Plot()\n",
    "\n",
    "# we can also force SigPlot to plot 1-dimensional arrays\n",
    "# as a heatmap/raster setting `subsize` to how many\n",
    "# elements should be in each row\n",
    "plot.overlay_array([1,2,3,2,3,4,1,2,3], {'subsize': 3})"
   ]
  },
  {
   "cell_type": "code",
   "execution_count": 10,
   "metadata": {},
   "outputs": [
    {
     "data": {
      "application/vnd.jupyter.widget-view+json": {
       "model_id": "73dfbd0c822849ec9c7ee25209717d64",
       "version_major": 2,
       "version_minor": 0
      },
      "text/plain": [
       "Plot()"
      ]
     },
     "metadata": {},
     "output_type": "display_data"
    }
   ],
   "source": [
    "plot = Plot()\n",
    "plot.overlay_array([1,2,3,2,3,4,1,2,3], {'subsize': 5})"
   ]
  },
  {
   "cell_type": "code",
   "execution_count": 11,
   "metadata": {},
   "outputs": [
    {
     "data": {
      "application/vnd.jupyter.widget-view+json": {
       "model_id": "cfeef435acf54f3cbff75136c70a1dee",
       "version_major": 2,
       "version_minor": 0
      },
      "text/plain": [
       "Plot()"
      ]
     },
     "metadata": {},
     "output_type": "display_data"
    }
   ],
   "source": [
    "plot = Plot()\n",
    "\n",
    "# alternatively, you can just pass a 2-dimensional array/list\n",
    "# and as long as \"subsize\" is passed, it will plot it correctly\n",
    "plot.overlay_array([[1,2,3],[2,3,4],[1,2,3]], {'subsize': 3})"
   ]
  },
  {
   "cell_type": "code",
   "execution_count": 12,
   "metadata": {},
   "outputs": [
    {
     "data": {
      "application/vnd.jupyter.widget-view+json": {
       "model_id": "a36369fc70534b7fb45c25b83811dd51",
       "version_major": 2,
       "version_minor": 0
      },
      "text/plain": [
       "Plot()"
      ]
     },
     "metadata": {},
     "output_type": "display_data"
    }
   ],
   "source": [
    "plot = Plot()\n",
    "\n",
    "# you can also specify multiple files using '|' as\n",
    "# the delimiter\n",
    "plot.overlay_href('pulse.tmp|sin.tmp')"
   ]
  },
  {
   "cell_type": "code",
   "execution_count": null,
   "metadata": {},
   "outputs": [],
   "source": []
  }
 ],
 "metadata": {
  "kernelspec": {
   "display_name": "Python 2",
   "language": "python",
   "name": "python2"
  },
  "language_info": {
   "codemirror_mode": {
    "name": "ipython",
    "version": 3
   },
   "file_extension": ".py",
   "mimetype": "text/x-python",
   "name": "python",
   "nbconvert_exporter": "python",
   "pygments_lexer": "ipython3",
   "version": "3.7.6"
  }
 },
 "nbformat": 4,
 "nbformat_minor": 2
}
