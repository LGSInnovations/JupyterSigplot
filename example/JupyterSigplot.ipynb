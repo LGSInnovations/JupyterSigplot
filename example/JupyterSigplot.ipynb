{
 "cells": [
  {
   "cell_type": "markdown",
   "metadata": {},
   "source": [
    "# SigPlot Jupyter Notebook Extension!\n",
    "\n",
    "[![Binder](https://mybinder.org/badge.svg)](https://mybinder.org/v2/gh/LGSInnovations/jupyter-sigplot/master?filepath=example%2FJupyterSigplot.ipynb)\n",
    "\n",
    "## Installation (If not running the notebook on [myBinder](https://mybinder.org/v2/gh/LGSInnovations/jupyter-sigplot/master?filepath=example%2FJupyterSigplot.ipynb))\n",
    "- Download extension from [GitHub](https://github.com/LGSInnovations/jupyter-sigplot)\n",
    "- Install Python 2.6+ or 3.5+\n",
    "- Install `pip` (usually bundled with Python)\n",
    "- Install Jupyter using `pip` (or install the Anaconda platform, which also includes Jupyter)\n",
    "\n",
    "```\n",
    "pip install jupyter\n",
    "```\n",
    "\n",
    "- Install the SigPlot Jupyter Notebook extension (run the following in order)\n",
    "\n",
    "```\n",
    "[/path/to/jupyter_sigplot]$ python setup.py install\n",
    "[/path/to/jupyter_sigplot]$ jupyter nbextension install --py --symlink --sys-prefix jupyter_sigplot\n",
    "[/path/to/jupyter_sigplot]$ jupyter nbextension enable jupyter_sigplot --py --sys-prefix\n",
    "```\n",
    "- To launch the notebook, simply run\n",
    "\n",
    "```\n",
    "$ jupyter notebook\n",
    "```\n",
    "\n",
    "## SigPlot Usage\n",
    "- `Sigplot(*args, **kwargs)` - creates a sigplot with each arg as input data and kwargs as options\n",
    "- `overlay_array(data)` - adds an array of numbers to the sigplot's input data\n",
    "- `overlay_href(path)` - adds data from a file or URI to the sigplot\n",
    "- `change_settings(**kwargs)` - changes the options of the sigplot\n",
    "- `plot(*args)` - displays an interactive sigplot\n",
    "\n",
    "(Note: Changing the kernel's current working directory will affect relative data paths.)"
   ]
  },
  {
   "cell_type": "code",
   "execution_count": null,
   "metadata": {},
   "outputs": [],
   "source": [
    "# The only import you _need_ for plotting is `jupyter_sigplot.sigplot.SigPlot`.\n",
    "from jupyter_sigplot.sigplot import SigPlot\n",
    "\n",
    "# We'll import `numpy` too to show how to plot a `numpy` array.\n",
    "import numpy as np"
   ]
  },
  {
   "cell_type": "code",
   "execution_count": null,
   "metadata": {},
   "outputs": [],
   "source": [
    "# Instantiate a `SigPlot` object with keyword arguments to hide the x and y axes.\n",
    "plot = SigPlot(noxaxis=True, noyaxis=True)\n",
    "\n",
    "# Multiple `overlay_*` calls will layer on top of one another.\n",
    "plot.overlay_array(np.sin(np.arange(0, 20, 0.01)))\n",
    "plot.overlay_array(np.cos(np.arange(0, 20, 0.01)))\n",
    "\n",
    "# `plot` is the call that will actually render the layers.\n",
    "plot.plot()"
   ]
  },
  {
   "cell_type": "code",
   "execution_count": null,
   "metadata": {},
   "outputs": [],
   "source": [
    "# You can change settings after the plot is instantiated,\n",
    "# so we'll invert the plot colors, add cross-hairs, and show the x axis!\n",
    "#\n",
    "# Note that some settings currently are spelled differently in the constructor\n",
    "# than in change settings (noxaxis / show_x_axis).\n",
    "plot.change_settings(invert=True, cross=True, show_x_axis=True)"
   ]
  },
  {
   "cell_type": "code",
   "execution_count": null,
   "metadata": {},
   "outputs": [],
   "source": [
    "plot = SigPlot(noxaxis=True, noyaxis=False)\n",
    "\n",
    "# `overlay_href` can accept a local Jupyter file or an arbitrary URI;\n",
    "# if it's an http or https URI, it will copy the file locally to\n",
    "# avoid dealing with cross-origin resource sharing (CORS).\n",
    "plot.overlay_href(\"http://sigplot.lgsinnovations.com/dat/pulse.tmp\")\n",
    "plot.plot()"
   ]
  },
  {
   "cell_type": "code",
   "execution_count": null,
   "metadata": {},
   "outputs": [],
   "source": [
    "# You can also instantiate a `SigPlot` object with an array or href. \n",
    "# It will add the argument as a layer.\n",
    "plot = SigPlot(\"http://sigplot.lgsinnovations.com/dat/sin.tmp\")\n",
    "plot.overlay_href(\"http://sigplot.lgsinnovations.com/dat/pulse.tmp\")\n",
    "plot.plot()"
   ]
  },
  {
   "cell_type": "code",
   "execution_count": null,
   "metadata": {},
   "outputs": [],
   "source": [
    "# Once a local copy of the the resource has been made,\n",
    "# you can just refer to the filename.\n",
    "# Note: changing the kernel's current working directory will affect\n",
    "# relative data paths.\n",
    "plot = SigPlot(\"sin.tmp\")\n",
    "plot.plot()"
   ]
  },
  {
   "cell_type": "code",
   "execution_count": null,
   "metadata": {},
   "outputs": [],
   "source": [
    "# You can also instantiate SigPlot with multiple\n",
    "# hrefs or arrays\n",
    "plot = SigPlot(\n",
    "    \"http://sigplot.lgsinnovations.com/dat/sin.tmp\",\n",
    "    \"http://sigplot.lgsinnovations.com/dat/pulse.tmp\",\n",
    "    np.arange(0, 4, .01)\n",
    ")\n",
    "plot.plot()"
   ]
  },
  {
   "cell_type": "code",
   "execution_count": null,
   "metadata": {},
   "outputs": [],
   "source": [
    "# penny.prm is a type-2000 file, meaning it's laid out as\n",
    "# a 2-dimensional matrix. The default behavior is to plot each row\n",
    "# individually in a 1-D plot.\n",
    "plot = SigPlot(\"http://sigplot.lgsinnovations.com/dat/penny.prm\")\n",
    "plot.plot()"
   ]
  },
  {
   "cell_type": "code",
   "execution_count": null,
   "metadata": {},
   "outputs": [],
   "source": [
    "plot = SigPlot(\"http://sigplot.lgsinnovations.com/dat/penny.prm\")\n",
    "\n",
    "# If we specifically ask for a 2D plot, we will get a heatmap/raster.\n",
    "plot.plot(\"2D\")"
   ]
  },
  {
   "cell_type": "code",
   "execution_count": null,
   "metadata": {},
   "outputs": [],
   "source": [
    "plot = SigPlot()\n",
    "\n",
    "# We can also force SigPlot to plot 1-dimensional arrays\n",
    "# as a heatmap/raster with `plot('2D') by setting `subsize`\n",
    "# to how many elements should be in each row.\n",
    "plot.overlay_array([1,2,3,2,3,4,1,2,3], subsize=3)\n",
    "plot.plot(\"2D\")"
   ]
  },
  {
   "cell_type": "code",
   "execution_count": null,
   "metadata": {},
   "outputs": [],
   "source": [
    "plot = SigPlot()\n",
    "plot.overlay_array([1,2,3,2,3,4,1,2,3], subsize=5)\n",
    "\n",
    "# Note how changing subsize changes the output.\n",
    "plot.plot(\"2D\")"
   ]
  },
  {
   "cell_type": "code",
   "execution_count": null,
   "metadata": {},
   "outputs": [],
   "source": [
    "plot = SigPlot()\n",
    "\n",
    "# Alternatively, you can just pass a 2-dimensional array/list\n",
    "# and the subsize will be inferred from the data for 2D plots.\n",
    "plot.overlay_array([[1,2,3],[2,3,4],[1,2,3]])\n",
    "plot.plot(\"2D\")"
   ]
  },
  {
   "cell_type": "code",
   "execution_count": null,
   "metadata": {},
   "outputs": [],
   "source": [
    "# Multiple arguments can be '|'-delimited in a single string as well\n",
    "plot = SigPlot('sin.tmp|pulse.tmp')\n",
    "plot.plot()"
   ]
  }
 ],
 "metadata": {
  "kernelspec": {
   "display_name": "Python 2",
   "language": "python",
   "name": "python2"
  },
  "language_info": {
   "codemirror_mode": {
    "name": "ipython",
    "version": 2
   },
   "file_extension": ".py",
   "mimetype": "text/x-python",
   "name": "python",
   "nbconvert_exporter": "python",
   "pygments_lexer": "ipython2",
   "version": "2.7.15"
  }
 },
 "nbformat": 4,
 "nbformat_minor": 2
}
