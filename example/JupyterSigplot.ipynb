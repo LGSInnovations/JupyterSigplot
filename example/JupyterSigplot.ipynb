{
 "cells": [
  {
   "cell_type": "markdown",
   "metadata": {},
   "source": [
    "# SigPlot Jupyter Notebook Extension!\n",
    "\n",
    "[![Binder](https://mybinder.org/badge.svg)](https://mybinder.org/v2/gh/LGSInnovations/jupyter-sigplot/master?filepath=example%2FJupyterSigplot.ipynb)\n",
    "\n",
    "## Installation (If not running the notebook on [myBinder](https://mybinder.org/v2/gh/LGSInnovations/jupyter-sigplot/master?filepath=example%2FJupyterSigplot.ipynb))\n",
    "- Download extension from [GitHub](https://github.com/LGSInnovations/jupyter-sigplot)\n",
    "- Install Python 2.6+ or 3.5+\n",
    "- Install `pip` (usually bundled with Python)\n",
    "- Install Jupyter using `pip`\n",
    "\n",
    "```\n",
    "pip install jupyter\n",
    "```\n",
    "\n",
    "- Install the SigPlot Jupyter Notebook extension (run the following in order)\n",
    "\n",
    "```\n",
    "[/path/to/jupyter_sigplot]$ python setup.py install\n",
    "[/path/to/jupyter_sigplot]$ jupyter nbextension install --py --symlink --sys-prefix jupyter_sigplot\n",
    "[/path/to/jupyter_sigplot]$ jupyter nbextension enable jupyter_sigplot --py --sys-prefix\n",
    "```\n",
    "- To launch the notebook, simply run\n",
    "\n",
    "```\n",
    "$ jupyter notebook\n",
    "```\n",
    "\n",
    "- (Note: you do not need X-MIDAS installed to use  [SigPlot](https://github.com/lgsinnovations/sigplot).)\n",
    "\n",
    "## sigplot.Plot Usage\n",
    "- `Sigplot(args*, kwargs*)` - creates a sigplot with each arg as input data and kwargs as options\n",
    "- `overlay_array(data)` - adds an array of numbers to the sigplot's input data\n",
    "- `overlay_href(path)` - adds data from a file to the sigplot\n",
    "- `change_settings(kwargs*)` - changes the options of the sigplot\n",
    "- `plot(args*)` - displays an interactive sigplot\n",
    "\n",
    "(Note: Changing the kernel's current working directory will affect relative data paths.)"
   ]
  },
  {
   "cell_type": "code",
   "execution_count": null,
   "metadata": {},
   "outputs": [],
   "source": [
    "# The only import you _need_ for plotting is `jupyter_sigplot.sigplot.Plot`.\n",
    "from jupyter_sigplot.sigplot import Plot\n",
    "\n",
    "# We'll import `numpy` too to show how to plot a `numpy` array.\n",
    "import numpy as np"
   ]
  },
  {
   "cell_type": "code",
   "execution_count": null,
   "metadata": {},
   "outputs": [],
   "source": [
    "# self-explanatory, but we're instantiating a `jupyter_sigplot.sigplot.Plot` object\n",
    "# and saying do not show the x and y axes.\n",
    "plot = Plot(noxaxis=True, noyaxis=True)\n",
    "\n",
    "# Multiple `overlay_*` calls will layer on top of one-another\n",
    "plot.overlay_array([1,2,3])\n",
    "plot.overlay_array([3,2,1])\n",
    "# plot.overlay_array(np.cos(np.arange(0, 20, 0.01)))\n",
    "\n",
    "# you can change settings after the plot is instantiated,\n",
    "# so we'll invert the plot colors, add cross-hairs, and show the x axis!\n",
    "# plot.change_settings(xi=True, cross=True, noxaxis=False)"
   ]
  },
  {
   "cell_type": "code",
   "execution_count": null,
   "metadata": {},
   "outputs": [],
   "source": [
    "# self-explanatory, but we're instantiating a `SigPlot` object\n",
    "# and saying do not show the x and y axes.\n",
    "plot = Plot(noxaxis=True, noyaxis=True)\n",
    "\n",
    "# Multiple `overlay_*` calls will layer on top of one-another\n",
    "x = np.arange(0, 200e3, 100)\n",
    "plot.overlay_array(np.sin(x))"
   ]
  },
  {
   "cell_type": "code",
   "execution_count": null,
   "metadata": {},
   "outputs": [],
   "source": [
    "plot = Plot(noxaxis=True, noyaxis=False)\n",
    "\n",
    "# overlay_href() can accept a local Jupyter file or an arbitrary URI;\n",
    "# if it's an http or https URI, it will copy the file locally to\n",
    "# avoid dealing with cross-origin resource sharing (CORS)\n",
    "plot.overlay_href(\"http://sigplot.lgsinnovations.com/dat/pulse.tmp\")"
   ]
  },
  {
   "cell_type": "code",
   "execution_count": null,
   "metadata": {},
   "outputs": [],
   "source": [
    "# once the resource is local,\n",
    "# you can just refer to the filename\n",
    "# Note: changing the kernel's current working directory will affect\n",
    "# relative data paths.\n",
    "plot.overlay_href(\"sin.tmp\")"
   ]
  },
  {
   "cell_type": "code",
   "execution_count": null,
   "metadata": {},
   "outputs": [],
   "source": [
    "# You can also instantiate the `SigPlot()` with multiple\n",
    "# hrefs or arrays\n",
    "plot = Plot()\n",
    "plot.overlay_href(\"http://sigplot.lgsinnovations.com/dat/sin.tmp\")\n",
    "plot.overlay_href(\"http://sigplot.lgsinnovations.com/dat/pulse.tmp\")\n",
    "plot.overlay_href(np.arange(0, 4, .01))"
   ]
  },
  {
   "cell_type": "code",
   "execution_count": null,
   "metadata": {},
   "outputs": [],
   "source": [
    "# penny.prm is a type-2000 file, meaning it's layed out as\n",
    "# a 2-dimensional matrix, so `plot()` will by default plot each row\n",
    "# individually in a 1-D plot\n",
    "plot = SigPlot(\"http://sigplot.lgsinnovations.com/dat/penny.prm\")\n",
    "plot.plot()"
   ]
  },
  {
   "cell_type": "code",
   "execution_count": null,
   "metadata": {},
   "outputs": [],
   "source": [
    "plot = SigPlot(\"http://sigplot.lgsinnovations.com/dat/penny.prm\")\n",
    "\n",
    "# if we specifically tell it to `plot('2D')`, it will plot it as\n",
    "# a heatmap/raster.\n",
    "plot.plot(\"2D\")"
   ]
  },
  {
   "cell_type": "code",
   "execution_count": null,
   "metadata": {},
   "outputs": [],
   "source": [
    "plot = SigPlot()\n",
    "\n",
    "# we can also force SigPlot to plot 1-dimensional arrays\n",
    "# as a heatmap/raster with `plot('2D') and setting `subsize`\n",
    "# to how many elements should be in each row\n",
    "plot.overlay_array([1,2,3,2,3,4,1,2,3])\n",
    "plot.plot(\"2D\", subsize=3)"
   ]
  },
  {
   "cell_type": "code",
   "execution_count": null,
   "metadata": {},
   "outputs": [],
   "source": [
    "plot = SigPlot()\n",
    "plot.overlay_array([1,2,3,2,3,4,1,2,3])\n",
    "\n",
    "# note how changing subsize changes the output\n",
    "plot.plot(\"2D\", subsize=5)"
   ]
  },
  {
   "cell_type": "code",
   "execution_count": null,
   "metadata": {},
   "outputs": [],
   "source": [
    "plot = SigPlot()\n",
    "\n",
    "# alternatively, you can just pass a 2-dimensional array/list\n",
    "# and as long as \"2D\" is passed, it will plot it correctly\n",
    "plot.overlay_array([[1,2,3],[2,3,4],[1,2,3]])\n",
    "plot.plot(\"2D\")"
   ]
  },
  {
   "cell_type": "code",
   "execution_count": null,
   "metadata": {},
   "outputs": [],
   "source": [
    "# also, hrefs can be '|'-delimited\n",
    "plot = SigPlot('sin.tmp|pulse.tmp')\n",
    "plot.plot()"
   ]
  },
  {
   "cell_type": "code",
   "execution_count": null,
   "metadata": {},
   "outputs": [],
   "source": []
  }
 ],
 "metadata": {
  "kernelspec": {
   "display_name": "Python 2",
   "language": "python",
   "name": "python2"
  },
  "language_info": {
   "codemirror_mode": {
    "name": "ipython",
    "version": 2
   },
   "file_extension": ".py",
   "mimetype": "text/x-python",
   "name": "python",
   "nbconvert_exporter": "python",
   "pygments_lexer": "ipython2",
   "version": "2.7.15"
  }
 },
 "nbformat": 4,
 "nbformat_minor": 2
}
