{
 "cells": [
  {
   "cell_type": "markdown",
   "metadata": {},
   "source": [
    "# Getting Sigplot to properly display bluefiles\n",
    "\n",
    "### Source material\n",
    "\n",
    "pulse.tmp comes from jupyter-sigplot\n",
    "\n",
    "pulse2.tmp comes from:\n",
    "```\n",
    "WAVEFORM,pulse2,sd,10000,pulse,,,,-5000,1,\n",
    "headermod pulse2 xd=3\n",
    "```\n",
    "\n",
    "## This is what it is supposed to look like:\n"
   ]
  },
  {
   "cell_type": "code",
   "execution_count": 1,
   "metadata": {},
   "outputs": [
    {
     "data": {
      "application/vnd.jupyter.widget-view+json": {
       "model_id": "caf6faf7929247fdba6e969846030a9a",
       "version_major": 2,
       "version_minor": 0
      },
      "text/plain": [
       "SigPlot()"
      ]
     },
     "metadata": {},
     "output_type": "display_data"
    }
   ],
   "source": [
    "from jupyter_sigplot.sigplot import SigPlot\n",
    "plot1 = SigPlot()\n",
    "\n",
    "plot1.overlay_file('data/pulse2.tmp')\n",
    "plot1.overlay_file('data/pulse.tmp')\n",
    "\n",
    "plot1.plot()"
   ]
  },
  {
   "cell_type": "markdown",
   "metadata": {},
   "source": [
    "# Using show_array\n",
    "\n",
    "Show array is far from the user and close to the web component.\n",
    "\n",
    "If this one doesn't work, nothing below should work either."
   ]
  },
  {
   "cell_type": "code",
   "execution_count": 2,
   "metadata": {},
   "outputs": [
    {
     "data": {
      "application/vnd.jupyter.widget-view+json": {
       "model_id": "9e5f6c578107463e9ffa1abdac65eb6b",
       "version_major": 2,
       "version_minor": 0
      },
      "text/plain": [
       "SigPlot(options={'all': True, 'expand': True})"
      ]
     },
     "metadata": {},
     "output_type": "display_data"
    }
   ],
   "source": [
    "import bluefile\n",
    "from jupyter_sigplot.sigplot import SigPlot\n",
    "\n",
    "plot5 = SigPlot(all=True,expand=True)\n",
    "display(plot5)\n",
    "\n",
    "header1, contents1 = bluefile.read('data/pulse2.tmp')\n",
    "contents1 = contents1.tolist()\n",
    "plot5.show_array(contents1, overrides=header1)\n",
    "\n",
    "header2, contents2 = bluefile.read('data/pulse.tmp')\n",
    "contents2 = contents2.tolist()\n",
    "plot5.show_array(contents2, overrides=header2, layer_type=\"1D\", subsize=None)"
   ]
  },
  {
   "cell_type": "markdown",
   "metadata": {},
   "source": [
    "# Appending directly to inputs\n",
    "\n",
    "This is one step closer to the user."
   ]
  },
  {
   "cell_type": "code",
   "execution_count": 3,
   "metadata": {
    "scrolled": true
   },
   "outputs": [
    {
     "data": {
      "application/vnd.jupyter.widget-view+json": {
       "model_id": "c4511cf32aea45a5ad4d557bda42f17a",
       "version_major": 2,
       "version_minor": 0
      },
      "text/plain": [
       "SigPlot()"
      ]
     },
     "metadata": {},
     "output_type": "display_data"
    }
   ],
   "source": [
    "import bluefile\n",
    "from jupyter_sigplot.sigplot import SigPlot\n",
    "\n",
    "plot2 = SigPlot()\n",
    "\n",
    "header1, contents1 = bluefile.read('data/pulse2.tmp')\n",
    "plot2.inputs.append([contents1, header1])\n",
    "\n",
    "header2, contents2 = bluefile.read('data/pulse.tmp')\n",
    "plot2.inputs.append([contents2, header2])\n",
    "\n",
    "plot2.plot()"
   ]
  },
  {
   "cell_type": "markdown",
   "metadata": {},
   "source": [
    "# Using overlay_array\n",
    "\n",
    "This is close to the user."
   ]
  },
  {
   "cell_type": "code",
   "execution_count": 4,
   "metadata": {},
   "outputs": [
    {
     "data": {
      "application/vnd.jupyter.widget-view+json": {
       "model_id": "4fcd8349f8bd4ea68996d7ac8ab543f4",
       "version_major": 2,
       "version_minor": 0
      },
      "text/plain": [
       "SigPlot(options={'all': 'True', 'expand': 'True'})"
      ]
     },
     "metadata": {},
     "output_type": "display_data"
    }
   ],
   "source": [
    "from jupyter_sigplot.sigplot import SigPlot\n",
    "plot3 = SigPlot(expand=\"True\", all=\"True\")\n",
    "\n",
    "import bluefile\n",
    "\n",
    "header1, contents1 = bluefile.read('data/pulse2.tmp')\n",
    "plot3.overlay_array(contents1, header1)\n",
    "\n",
    "header2, contents2 = bluefile.read('data/pulse.tmp')\n",
    "plot3.overlay_array(contents2, header2)\n",
    "\n",
    "plot3.plot()"
   ]
  }
 ],
 "metadata": {
  "kernelspec": {
   "display_name": "Python 2",
   "language": "python",
   "name": "python2"
  },
  "language_info": {
   "codemirror_mode": {
    "name": "ipython",
    "version": 2
   },
   "file_extension": ".py",
   "mimetype": "text/x-python",
   "name": "python",
   "nbconvert_exporter": "python",
   "pygments_lexer": "ipython2",
   "version": "2.7.15"
  }
 },
 "nbformat": 4,
 "nbformat_minor": 2
}
